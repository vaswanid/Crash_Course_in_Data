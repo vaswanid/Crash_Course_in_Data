{
  "nbformat": 4,
  "nbformat_minor": 0,
  "metadata": {
    "colab": {
      "provenance": []
    },
    "kernelspec": {
      "name": "python3",
      "display_name": "Python 3"
    },
    "language_info": {
      "name": "python"
    }
  },
  "cells": [
    {
      "cell_type": "markdown",
      "source": [
        "\n",
        "Grammar of Graphics: Worked Examples\n",
        "Authors\n",
        "Disha Mukesh Vaswani, Nik Bear Brown"
      ],
      "metadata": {
        "id": "dJ9W1zm9FX8H"
      }
    },
    {
      "cell_type": "markdown",
      "source": [
        "Example 1:"
      ],
      "metadata": {
        "id": "EjrTxkaZFfFS"
      }
    },
    {
      "cell_type": "markdown",
      "source": [
        "**Building a scatterplot** : \n",
        "How are engine size and fuel economy related? We might create a scatterplot of engine displacement and highway mpg with points coloured by number of cylinders:"
      ],
      "metadata": {
        "id": "aDoLNvwJIq-f"
      }
    },
    {
      "cell_type": "markdown",
      "source": [
        "Mapping aesthetics to data\n",
        "What precisely is a scatterplot? You have seen many before and have probably even drawn some by hand. A scatterplot represents each observation as a point, positioned according to the value of two variables. As well as a horizontal and vertical position, each point also has a size, a colour and a shape. These attributes are called aesthetics, and are the properties that can be perceived on the graphic. Each aesthetic can be mapped to a variable, or set to a constant value. In the previous graphic, displ is mapped to horizontal position, hwy to vertical position and cyl to colour. Size and shape are not mapped to variables, but remain at their (constant) default values."
      ],
      "metadata": {
        "id": "WWME5543I2Ko"
      }
    },
    {
      "cell_type": "markdown",
      "source": [
        "In ggplot, we can produce many plots that don’t make sense, yet are grammatically valid. This is no different than English, where we can create senseless but grammatical sentences like the angry rock barked like a comma.\n",
        "\n",
        "Points, lines and bars are all examples of geometric objects, or geoms. Geoms determine the “type” of the plot. Plots that use a single geom are often given a special name:"
      ],
      "metadata": {
        "id": "FWoafJKAJFMW"
      }
    },
    {
      "cell_type": "markdown",
      "source": [
        "We always start by loading up and looking at the dataset we want to analyze and visualize. We will use the famous mtcars dataset available as one of the pre-loaded datasets in plotnine."
      ],
      "metadata": {
        "id": "p9y2Hm4MJill"
      }
    },
    {
      "cell_type": "markdown",
      "source": [
        "Plotnine is an open-source Python implementation for a layered grammar of graphics framework which is based on ggplot2. Thus, using the previously specified components in this layered grammar, we can build effective visualizations."
      ],
      "metadata": {
        "id": "8YZR5D_xKhFR"
      }
    },
    {
      "cell_type": "code",
      "source": [
        "from plotnine import *\n",
        "from plotnine.data import mtcars\n",
        "\n",
        "mtcars.head()"
      ],
      "metadata": {
        "colab": {
          "base_uri": "https://localhost:8080/",
          "height": 206
        },
        "id": "mkNjTYTkJTP4",
        "outputId": "d9210f6c-fb22-4657-9158-0abe57b1c212"
      },
      "execution_count": null,
      "outputs": [
        {
          "output_type": "execute_result",
          "data": {
            "text/plain": [
              "                name   mpg  cyl   disp   hp  drat     wt   qsec  vs  am  gear  \\\n",
              "0          Mazda RX4  21.0    6  160.0  110  3.90  2.620  16.46   0   1     4   \n",
              "1      Mazda RX4 Wag  21.0    6  160.0  110  3.90  2.875  17.02   0   1     4   \n",
              "2         Datsun 710  22.8    4  108.0   93  3.85  2.320  18.61   1   1     4   \n",
              "3     Hornet 4 Drive  21.4    6  258.0  110  3.08  3.215  19.44   1   0     3   \n",
              "4  Hornet Sportabout  18.7    8  360.0  175  3.15  3.440  17.02   0   0     3   \n",
              "\n",
              "   carb  \n",
              "0     4  \n",
              "1     4  \n",
              "2     1  \n",
              "3     1  \n",
              "4     2  "
            ],
            "text/html": [
              "\n",
              "  <div id=\"df-e7ef710d-4a3c-48c3-822a-11cd67586f05\">\n",
              "    <div class=\"colab-df-container\">\n",
              "      <div>\n",
              "<style scoped>\n",
              "    .dataframe tbody tr th:only-of-type {\n",
              "        vertical-align: middle;\n",
              "    }\n",
              "\n",
              "    .dataframe tbody tr th {\n",
              "        vertical-align: top;\n",
              "    }\n",
              "\n",
              "    .dataframe thead th {\n",
              "        text-align: right;\n",
              "    }\n",
              "</style>\n",
              "<table border=\"1\" class=\"dataframe\">\n",
              "  <thead>\n",
              "    <tr style=\"text-align: right;\">\n",
              "      <th></th>\n",
              "      <th>name</th>\n",
              "      <th>mpg</th>\n",
              "      <th>cyl</th>\n",
              "      <th>disp</th>\n",
              "      <th>hp</th>\n",
              "      <th>drat</th>\n",
              "      <th>wt</th>\n",
              "      <th>qsec</th>\n",
              "      <th>vs</th>\n",
              "      <th>am</th>\n",
              "      <th>gear</th>\n",
              "      <th>carb</th>\n",
              "    </tr>\n",
              "  </thead>\n",
              "  <tbody>\n",
              "    <tr>\n",
              "      <th>0</th>\n",
              "      <td>Mazda RX4</td>\n",
              "      <td>21.0</td>\n",
              "      <td>6</td>\n",
              "      <td>160.0</td>\n",
              "      <td>110</td>\n",
              "      <td>3.90</td>\n",
              "      <td>2.620</td>\n",
              "      <td>16.46</td>\n",
              "      <td>0</td>\n",
              "      <td>1</td>\n",
              "      <td>4</td>\n",
              "      <td>4</td>\n",
              "    </tr>\n",
              "    <tr>\n",
              "      <th>1</th>\n",
              "      <td>Mazda RX4 Wag</td>\n",
              "      <td>21.0</td>\n",
              "      <td>6</td>\n",
              "      <td>160.0</td>\n",
              "      <td>110</td>\n",
              "      <td>3.90</td>\n",
              "      <td>2.875</td>\n",
              "      <td>17.02</td>\n",
              "      <td>0</td>\n",
              "      <td>1</td>\n",
              "      <td>4</td>\n",
              "      <td>4</td>\n",
              "    </tr>\n",
              "    <tr>\n",
              "      <th>2</th>\n",
              "      <td>Datsun 710</td>\n",
              "      <td>22.8</td>\n",
              "      <td>4</td>\n",
              "      <td>108.0</td>\n",
              "      <td>93</td>\n",
              "      <td>3.85</td>\n",
              "      <td>2.320</td>\n",
              "      <td>18.61</td>\n",
              "      <td>1</td>\n",
              "      <td>1</td>\n",
              "      <td>4</td>\n",
              "      <td>1</td>\n",
              "    </tr>\n",
              "    <tr>\n",
              "      <th>3</th>\n",
              "      <td>Hornet 4 Drive</td>\n",
              "      <td>21.4</td>\n",
              "      <td>6</td>\n",
              "      <td>258.0</td>\n",
              "      <td>110</td>\n",
              "      <td>3.08</td>\n",
              "      <td>3.215</td>\n",
              "      <td>19.44</td>\n",
              "      <td>1</td>\n",
              "      <td>0</td>\n",
              "      <td>3</td>\n",
              "      <td>1</td>\n",
              "    </tr>\n",
              "    <tr>\n",
              "      <th>4</th>\n",
              "      <td>Hornet Sportabout</td>\n",
              "      <td>18.7</td>\n",
              "      <td>8</td>\n",
              "      <td>360.0</td>\n",
              "      <td>175</td>\n",
              "      <td>3.15</td>\n",
              "      <td>3.440</td>\n",
              "      <td>17.02</td>\n",
              "      <td>0</td>\n",
              "      <td>0</td>\n",
              "      <td>3</td>\n",
              "      <td>2</td>\n",
              "    </tr>\n",
              "  </tbody>\n",
              "</table>\n",
              "</div>\n",
              "      <button class=\"colab-df-convert\" onclick=\"convertToInteractive('df-e7ef710d-4a3c-48c3-822a-11cd67586f05')\"\n",
              "              title=\"Convert this dataframe to an interactive table.\"\n",
              "              style=\"display:none;\">\n",
              "        \n",
              "  <svg xmlns=\"http://www.w3.org/2000/svg\" height=\"24px\"viewBox=\"0 0 24 24\"\n",
              "       width=\"24px\">\n",
              "    <path d=\"M0 0h24v24H0V0z\" fill=\"none\"/>\n",
              "    <path d=\"M18.56 5.44l.94 2.06.94-2.06 2.06-.94-2.06-.94-.94-2.06-.94 2.06-2.06.94zm-11 1L8.5 8.5l.94-2.06 2.06-.94-2.06-.94L8.5 2.5l-.94 2.06-2.06.94zm10 10l.94 2.06.94-2.06 2.06-.94-2.06-.94-.94-2.06-.94 2.06-2.06.94z\"/><path d=\"M17.41 7.96l-1.37-1.37c-.4-.4-.92-.59-1.43-.59-.52 0-1.04.2-1.43.59L10.3 9.45l-7.72 7.72c-.78.78-.78 2.05 0 2.83L4 21.41c.39.39.9.59 1.41.59.51 0 1.02-.2 1.41-.59l7.78-7.78 2.81-2.81c.8-.78.8-2.07 0-2.86zM5.41 20L4 18.59l7.72-7.72 1.47 1.35L5.41 20z\"/>\n",
              "  </svg>\n",
              "      </button>\n",
              "      \n",
              "  <style>\n",
              "    .colab-df-container {\n",
              "      display:flex;\n",
              "      flex-wrap:wrap;\n",
              "      gap: 12px;\n",
              "    }\n",
              "\n",
              "    .colab-df-convert {\n",
              "      background-color: #E8F0FE;\n",
              "      border: none;\n",
              "      border-radius: 50%;\n",
              "      cursor: pointer;\n",
              "      display: none;\n",
              "      fill: #1967D2;\n",
              "      height: 32px;\n",
              "      padding: 0 0 0 0;\n",
              "      width: 32px;\n",
              "    }\n",
              "\n",
              "    .colab-df-convert:hover {\n",
              "      background-color: #E2EBFA;\n",
              "      box-shadow: 0px 1px 2px rgba(60, 64, 67, 0.3), 0px 1px 3px 1px rgba(60, 64, 67, 0.15);\n",
              "      fill: #174EA6;\n",
              "    }\n",
              "\n",
              "    [theme=dark] .colab-df-convert {\n",
              "      background-color: #3B4455;\n",
              "      fill: #D2E3FC;\n",
              "    }\n",
              "\n",
              "    [theme=dark] .colab-df-convert:hover {\n",
              "      background-color: #434B5C;\n",
              "      box-shadow: 0px 1px 3px 1px rgba(0, 0, 0, 0.15);\n",
              "      filter: drop-shadow(0px 1px 2px rgba(0, 0, 0, 0.3));\n",
              "      fill: #FFFFFF;\n",
              "    }\n",
              "  </style>\n",
              "\n",
              "      <script>\n",
              "        const buttonEl =\n",
              "          document.querySelector('#df-e7ef710d-4a3c-48c3-822a-11cd67586f05 button.colab-df-convert');\n",
              "        buttonEl.style.display =\n",
              "          google.colab.kernel.accessAllowed ? 'block' : 'none';\n",
              "\n",
              "        async function convertToInteractive(key) {\n",
              "          const element = document.querySelector('#df-e7ef710d-4a3c-48c3-822a-11cd67586f05');\n",
              "          const dataTable =\n",
              "            await google.colab.kernel.invokeFunction('convertToInteractive',\n",
              "                                                     [key], {});\n",
              "          if (!dataTable) return;\n",
              "\n",
              "          const docLinkHtml = 'Like what you see? Visit the ' +\n",
              "            '<a target=\"_blank\" href=https://colab.research.google.com/notebooks/data_table.ipynb>data table notebook</a>'\n",
              "            + ' to learn more about interactive tables.';\n",
              "          element.innerHTML = '';\n",
              "          dataTable['output_type'] = 'display_data';\n",
              "          await google.colab.output.renderOutput(dataTable, element);\n",
              "          const docLink = document.createElement('div');\n",
              "          docLink.innerHTML = docLinkHtml;\n",
              "          element.appendChild(docLink);\n",
              "        }\n",
              "      </script>\n",
              "    </div>\n",
              "  </div>\n",
              "  "
            ]
          },
          "metadata": {},
          "execution_count": 3
        }
      ]
    },
    {
      "cell_type": "markdown",
      "source": [
        "The mtcars dataset consists of data that was extracted from the 1974 Motor Trend US magazine, and depicts fuel consumption and 10 other attributes of automobile design and performance for 32 automobiles (1973–74 models). The details of each attribute are depicted in the figure above. Let’s build some visualizations now."
      ],
      "metadata": {
        "id": "VHkv2brhJol7"
      }
    },
    {
      "cell_type": "markdown",
      "source": [
        "**Visualize two-dimensions (2-D)**:"
      ],
      "metadata": {
        "id": "33nL8JOEJtcW"
      }
    },
    {
      "cell_type": "markdown",
      "source": [
        "We can now visualize data up to two dimensions using some of the components from our layered grammar of graphics framework including data, scale, aesthetics and geoms. We choose a dot or scatter plot in this case for our geometric object to represent each data point."
      ],
      "metadata": {
        "id": "bIEmpAWMJxjX"
      }
    },
    {
      "cell_type": "code",
      "source": [
        "(ggplot(mtcars, \n",
        "        aes('wt', 'mpg')) \n",
        "        + geom_point()\n",
        "        + theme_bw())"
      ],
      "metadata": {
        "colab": {
          "base_uri": "https://localhost:8080/",
          "height": 470
        },
        "id": "Qgtn3eqrJoB9",
        "outputId": "6d8cce38-a75d-43d3-e92d-9643e097784e"
      },
      "execution_count": null,
      "outputs": [
        {
          "output_type": "display_data",
          "data": {
            "text/plain": [
              "<Figure size 640x480 with 1 Axes>"
            ],
            "image/png": "[encoded data removed]"
          },
          "metadata": {}
        },
        {
          "output_type": "execute_result",
          "data": {
            "text/plain": [
              "<ggplot: (8733425210899)>"
            ]
          },
          "metadata": {},
          "execution_count": 4
        }
      ]
    },
    {
      "cell_type": "markdown",
      "source": [
        "**Visualize three-dimensions (3-D)**"
      ],
      "metadata": {
        "id": "lgeRhg3rJ3xP"
      }
    },
    {
      "cell_type": "code",
      "source": [
        "(ggplot(mtcars, \n",
        "            aes('wt', 'mpg', color='factor(gear)'))\n",
        "            + geom_point()\n",
        "            + theme_bw())"
      ],
      "metadata": {
        "colab": {
          "base_uri": "https://localhost:8080/",
          "height": 470
        },
        "id": "wtravxZKJ5Q2",
        "outputId": "bdb2cf09-b187-4e77-f66e-9ecf2036f99f"
      },
      "execution_count": null,
      "outputs": [
        {
          "output_type": "display_data",
          "data": {
            "text/plain": [
              "<Figure size 640x480 with 1 Axes>"
            ],
            "image/png": "[encoded data removed]"
          },
          "metadata": {}
        },
        {
          "output_type": "execute_result",
          "data": {
            "text/plain": [
              "<ggplot: (8733425162614)>"
            ]
          },
          "metadata": {},
          "execution_count": 5
        }
      ]
    },
    {
      "cell_type": "markdown",
      "source": [
        "In the above visualization, we depict the cars with different number of gears as separate categories using the color aesthetic along with our other two data dimensions (variables). It is quite clear that cars with a smaller number of gears on average tend to have higher wt and lower mpg."
      ],
      "metadata": {
        "id": "Q1NlB4kPKANU"
      }
    },
    {
      "cell_type": "markdown",
      "source": [
        "**Visualize four-dimensions (4-D)**\n",
        "To visualize four dimensions from our dataset, we can leverage color as well as size as two of our aesthetics besides other regular components including geoms, data and scale."
      ],
      "metadata": {
        "id": "CA9-txG1KC9Z"
      }
    },
    {
      "cell_type": "code",
      "source": [
        "(ggplot(mtcars, \n",
        "        aes('wt', 'mpg', \n",
        "            color='factor(gear)', size='cyl'))\n",
        "        + geom_point() \n",
        "        + theme_bw())"
      ],
      "metadata": {
        "colab": {
          "base_uri": "https://localhost:8080/",
          "height": 470
        },
        "id": "MVfuSYmtKIvq",
        "outputId": "67302571-998d-4be1-943b-ad9cf97e193c"
      },
      "execution_count": null,
      "outputs": [
        {
          "output_type": "display_data",
          "data": {
            "text/plain": [
              "<Figure size 640x480 with 1 Axes>"
            ],
            "image/png": "[encoded data removed]"
          },
          "metadata": {}
        },
        {
          "output_type": "execute_result",
          "data": {
            "text/plain": [
              "<ggplot: (8733422473045)>"
            ]
          },
          "metadata": {},
          "execution_count": 6
        }
      ]
    },
    {
      "cell_type": "markdown",
      "source": [
        "Visualize data dimensions and statistics\n",
        "To visualize data dimensions and some relevant statistics (like fitting a linear model), we can leverage statistics along with the other components in our layered grammar."
      ],
      "metadata": {
        "id": "DwFrqlQjKOEl"
      }
    },
    {
      "cell_type": "code",
      "source": [
        "\n",
        "(ggplot(mtcars, \n",
        "        aes('wt', 'mpg', \n",
        "            color='factor(gear)'))\n",
        "        + geom_point() \n",
        "        + stat_smooth(method='lm') \n",
        "        + theme_bw())"
      ],
      "metadata": {
        "colab": {
          "base_uri": "https://localhost:8080/",
          "height": 464
        },
        "id": "9oXj0QXzKRgI",
        "outputId": "1c33da32-47e3-4359-ab4f-9af6d39e9e48"
      },
      "execution_count": null,
      "outputs": [
        {
          "output_type": "display_data",
          "data": {
            "text/plain": [
              "<Figure size 640x480 with 1 Axes>"
            ],
            "image/png": "[encoded data removed]"
          },
          "metadata": {}
        },
        {
          "output_type": "execute_result",
          "data": {
            "text/plain": [
              "<ggplot: (8733422378403)>"
            ]
          },
          "metadata": {},
          "execution_count": 7
        }
      ]
    },
    {
      "cell_type": "markdown",
      "source": [
        "**One practical example of using a layered grammar of graphics in Python is with the ggplot library.**"
      ],
      "metadata": {
        "id": "Hlz_z9J3ot6e"
      }
    },
    {
      "cell_type": "markdown",
      "source": [
        "**ggplot**"
      ],
      "metadata": {
        "id": "wXPC9OXcqlzC"
      }
    },
    {
      "cell_type": "markdown",
      "source": [
        "ggplot2 is a powerful graphics library for R and is described in the book “ggplot2: Elegant Graphics for Data Analysis” by Hadley Wickham (affiliate link). Wickham, in turn, based his work on “The Grammar of Graphics”, a book by Leland Wilkinson. Wilkinson’s book gives the theoretical basis for a grammar of graphics and Wickham’s book shows how such a grammar can be implemented (in ggplot2).\n",
        "\n",
        "ggplot2 implements a layered approach to constructing graphics and allows the possibility of either using standard routines for the construction of popular graphs and charts, or the construction of custom graphics to suit your own purposes.\n",
        "\n",
        "Plotnine is based on ggplot2 and implemented in Python.\n",
        "\n",
        "Depending on your Python installation, you can install it with pip:"
      ],
      "metadata": {
        "id": "T_1U5q8RqnRT"
      }
    },
    {
      "cell_type": "code",
      "source": [
        "pip install plotnine"
      ],
      "metadata": {
        "colab": {
          "base_uri": "https://localhost:8080/"
        },
        "id": "DjMUe44-qsr6",
        "outputId": "f74274d0-be8a-4bbd-93a2-141a1a4ae10f"
      },
      "execution_count": 15,
      "outputs": [
        {
          "output_type": "stream",
          "name": "stdout",
          "text": [
            "Looking in indexes: https://pypi.org/simple, https://us-python.pkg.dev/colab-wheels/public/simple/\n",
            "Requirement already satisfied: plotnine in /usr/local/lib/python3.9/dist-packages (0.10.1)\n",
            "Requirement already satisfied: mizani>=0.8.1 in /usr/local/lib/python3.9/dist-packages (from plotnine) (0.8.1)\n",
            "Requirement already satisfied: scipy>=1.5.0 in /usr/local/lib/python3.9/dist-packages (from plotnine) (1.10.1)\n",
            "Requirement already satisfied: pandas>=1.3.5 in /usr/local/lib/python3.9/dist-packages (from plotnine) (1.4.4)\n",
            "Requirement already satisfied: statsmodels>=0.13.2 in /usr/local/lib/python3.9/dist-packages (from plotnine) (0.13.5)\n",
            "Requirement already satisfied: patsy>=0.5.1 in /usr/local/lib/python3.9/dist-packages (from plotnine) (0.5.3)\n",
            "Requirement already satisfied: matplotlib>=3.5.0 in /usr/local/lib/python3.9/dist-packages (from plotnine) (3.7.1)\n",
            "Requirement already satisfied: numpy>=1.19.0 in /usr/local/lib/python3.9/dist-packages (from plotnine) (1.22.4)\n",
            "Requirement already satisfied: kiwisolver>=1.0.1 in /usr/local/lib/python3.9/dist-packages (from matplotlib>=3.5.0->plotnine) (1.4.4)\n",
            "Requirement already satisfied: cycler>=0.10 in /usr/local/lib/python3.9/dist-packages (from matplotlib>=3.5.0->plotnine) (0.11.0)\n",
            "Requirement already satisfied: python-dateutil>=2.7 in /usr/local/lib/python3.9/dist-packages (from matplotlib>=3.5.0->plotnine) (2.8.2)\n",
            "Requirement already satisfied: contourpy>=1.0.1 in /usr/local/lib/python3.9/dist-packages (from matplotlib>=3.5.0->plotnine) (1.0.7)\n",
            "Requirement already satisfied: importlib-resources>=3.2.0 in /usr/local/lib/python3.9/dist-packages (from matplotlib>=3.5.0->plotnine) (5.12.0)\n",
            "Requirement already satisfied: pyparsing>=2.3.1 in /usr/local/lib/python3.9/dist-packages (from matplotlib>=3.5.0->plotnine) (3.0.9)\n",
            "Requirement already satisfied: fonttools>=4.22.0 in /usr/local/lib/python3.9/dist-packages (from matplotlib>=3.5.0->plotnine) (4.39.3)\n",
            "Requirement already satisfied: packaging>=20.0 in /usr/local/lib/python3.9/dist-packages (from matplotlib>=3.5.0->plotnine) (23.0)\n",
            "Requirement already satisfied: pillow>=6.2.0 in /usr/local/lib/python3.9/dist-packages (from matplotlib>=3.5.0->plotnine) (8.4.0)\n",
            "Requirement already satisfied: palettable in /usr/local/lib/python3.9/dist-packages (from mizani>=0.8.1->plotnine) (3.3.0)\n",
            "Requirement already satisfied: pytz>=2020.1 in /usr/local/lib/python3.9/dist-packages (from pandas>=1.3.5->plotnine) (2022.7.1)\n",
            "Requirement already satisfied: six in /usr/local/lib/python3.9/dist-packages (from patsy>=0.5.1->plotnine) (1.16.0)\n",
            "Requirement already satisfied: zipp>=3.1.0 in /usr/local/lib/python3.9/dist-packages (from importlib-resources>=3.2.0->matplotlib>=3.5.0->plotnine) (3.15.0)\n"
          ]
        }
      ]
    },
    {
      "cell_type": "markdown",
      "source": [
        "**Layers**"
      ],
      "metadata": {
        "id": "Hj_6bad7qzs4"
      }
    },
    {
      "cell_type": "markdown",
      "source": [
        "There are three basic elements to a ggplot command, data, aesthetics and layers. The role of data is clear and we should provide it in the form of a Pandas DataFrame. Aesthetics are where variables in the data are mapped onto visual properties and layers describe how to render the data, for example, as a bar chart. There can be several layers that define different charts or parts of the chart, such as labels on the axes.\n",
        "\n",
        "In R commands in ggplot2 look something like:"
      ],
      "metadata": {
        "id": "GZ7d_fDwq4Pv"
      }
    },
    {
      "cell_type": "markdown",
      "source": [
        "![image.png](data:image/png;base64,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)"
      ],
      "metadata": {
        "id": "u5P8RTP0rNDg"
      }
    },
    {
      "cell_type": "markdown",
      "source": [
        "Plotnine uses the same pattern but this doesn’t fit with Python syntax very well. You could write:"
      ],
      "metadata": {
        "id": "akBjsVsrrQbY"
      }
    },
    {
      "cell_type": "markdown",
      "source": [
        "![image.png](data:image/png;base64,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)"
      ],
      "metadata": {
        "id": "4dSWqDAprVjh"
      }
    },
    {
      "cell_type": "markdown",
      "source": [
        "but you can end up with very long lines. The solution is simple, though. Just enclose the whole thing in braces. So we end up with:"
      ],
      "metadata": {
        "id": "6sHbKuMprY4j"
      }
    },
    {
      "cell_type": "markdown",
      "source": [
        "![image.png](data:image/png;base64,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)"
      ],
      "metadata": {
        "id": "zsDCQz7orb1X"
      }
    },
    {
      "cell_type": "markdown",
      "source": [
        "**Getting Data**"
      ],
      "metadata": {
        "id": "oap9vdTRriUM"
      }
    },
    {
      "cell_type": "markdown",
      "source": [
        "If you’ve followed my introductions to visualization for Pandas Plot or Julia, you will be familiar with the weather data that I use. It is public data derived from the UK Meteorological Office and charts weather data for London over the last few decades.\n",
        "\n",
        "The data tracks the maximum and minimum temperatures, the number of hours of sunshine and the rainfall for each month. There are two tables, one is the complete set of data from 1957 and a shorter one records the data for 2018, only.\n",
        "\n",
        "We’ll get the 2018 data first."
      ],
      "metadata": {
        "id": "07D4ZG0Urjoi"
      }
    },
    {
      "cell_type": "code",
      "source": [
        "import pandas as pd\n",
        "weather=pd.read_csv('https://raw.githubusercontent.com/alanjones2/dataviz/master/london2018.csv')\n",
        "weather"
      ],
      "metadata": {
        "colab": {
          "base_uri": "https://localhost:8080/",
          "height": 425
        },
        "id": "uhLBuErhrqgx",
        "outputId": "7a6d4850-4526-4775-a940-c7be56bbe2fe"
      },
      "execution_count": 19,
      "outputs": [
        {
          "output_type": "execute_result",
          "data": {
            "text/plain": [
              "    Year  Month  Tmax  Tmin  Rain    Sun\n",
              "0   2018      1   9.7   3.8  58.0   46.5\n",
              "1   2018      2   6.7   0.6  29.0   92.0\n",
              "2   2018      3   9.8   3.0  81.2   70.3\n",
              "3   2018      4  15.5   7.9  65.2  113.4\n",
              "4   2018      5  20.8   9.8  58.4  248.3\n",
              "5   2018      6  24.2  13.1   0.4  234.5\n",
              "6   2018      7  28.3  16.4  14.8  272.5\n",
              "7   2018      8  24.5  14.5  48.2  182.1\n",
              "8   2018      9  20.9  11.0  29.4  195.0\n",
              "9   2018     10  16.5   8.5  61.0  137.0\n",
              "10  2018     11  12.2   5.8  73.8   72.9\n",
              "11  2018     12  10.7   5.2  60.6   40.3"
            ],
            "text/html": [
              "\n",
              "  <div id=\"df-9245bfc6-b074-407a-b21d-b954dcdc8498\">\n",
              "    <div class=\"colab-df-container\">\n",
              "      <div>\n",
              "<style scoped>\n",
              "    .dataframe tbody tr th:only-of-type {\n",
              "        vertical-align: middle;\n",
              "    }\n",
              "\n",
              "    .dataframe tbody tr th {\n",
              "        vertical-align: top;\n",
              "    }\n",
              "\n",
              "    .dataframe thead th {\n",
              "        text-align: right;\n",
              "    }\n",
              "</style>\n",
              "<table border=\"1\" class=\"dataframe\">\n",
              "  <thead>\n",
              "    <tr style=\"text-align: right;\">\n",
              "      <th></th>\n",
              "      <th>Year</th>\n",
              "      <th>Month</th>\n",
              "      <th>Tmax</th>\n",
              "      <th>Tmin</th>\n",
              "      <th>Rain</th>\n",
              "      <th>Sun</th>\n",
              "    </tr>\n",
              "  </thead>\n",
              "  <tbody>\n",
              "    <tr>\n",
              "      <th>0</th>\n",
              "      <td>2018</td>\n",
              "      <td>1</td>\n",
              "      <td>9.7</td>\n",
              "      <td>3.8</td>\n",
              "      <td>58.0</td>\n",
              "      <td>46.5</td>\n",
              "    </tr>\n",
              "    <tr>\n",
              "      <th>1</th>\n",
              "      <td>2018</td>\n",
              "      <td>2</td>\n",
              "      <td>6.7</td>\n",
              "      <td>0.6</td>\n",
              "      <td>29.0</td>\n",
              "      <td>92.0</td>\n",
              "    </tr>\n",
              "    <tr>\n",
              "      <th>2</th>\n",
              "      <td>2018</td>\n",
              "      <td>3</td>\n",
              "      <td>9.8</td>\n",
              "      <td>3.0</td>\n",
              "      <td>81.2</td>\n",
              "      <td>70.3</td>\n",
              "    </tr>\n",
              "    <tr>\n",
              "      <th>3</th>\n",
              "      <td>2018</td>\n",
              "      <td>4</td>\n",
              "      <td>15.5</td>\n",
              "      <td>7.9</td>\n",
              "      <td>65.2</td>\n",
              "      <td>113.4</td>\n",
              "    </tr>\n",
              "    <tr>\n",
              "      <th>4</th>\n",
              "      <td>2018</td>\n",
              "      <td>5</td>\n",
              "      <td>20.8</td>\n",
              "      <td>9.8</td>\n",
              "      <td>58.4</td>\n",
              "      <td>248.3</td>\n",
              "    </tr>\n",
              "    <tr>\n",
              "      <th>5</th>\n",
              "      <td>2018</td>\n",
              "      <td>6</td>\n",
              "      <td>24.2</td>\n",
              "      <td>13.1</td>\n",
              "      <td>0.4</td>\n",
              "      <td>234.5</td>\n",
              "    </tr>\n",
              "    <tr>\n",
              "      <th>6</th>\n",
              "      <td>2018</td>\n",
              "      <td>7</td>\n",
              "      <td>28.3</td>\n",
              "      <td>16.4</td>\n",
              "      <td>14.8</td>\n",
              "      <td>272.5</td>\n",
              "    </tr>\n",
              "    <tr>\n",
              "      <th>7</th>\n",
              "      <td>2018</td>\n",
              "      <td>8</td>\n",
              "      <td>24.5</td>\n",
              "      <td>14.5</td>\n",
              "      <td>48.2</td>\n",
              "      <td>182.1</td>\n",
              "    </tr>\n",
              "    <tr>\n",
              "      <th>8</th>\n",
              "      <td>2018</td>\n",
              "      <td>9</td>\n",
              "      <td>20.9</td>\n",
              "      <td>11.0</td>\n",
              "      <td>29.4</td>\n",
              "      <td>195.0</td>\n",
              "    </tr>\n",
              "    <tr>\n",
              "      <th>9</th>\n",
              "      <td>2018</td>\n",
              "      <td>10</td>\n",
              "      <td>16.5</td>\n",
              "      <td>8.5</td>\n",
              "      <td>61.0</td>\n",
              "      <td>137.0</td>\n",
              "    </tr>\n",
              "    <tr>\n",
              "      <th>10</th>\n",
              "      <td>2018</td>\n",
              "      <td>11</td>\n",
              "      <td>12.2</td>\n",
              "      <td>5.8</td>\n",
              "      <td>73.8</td>\n",
              "      <td>72.9</td>\n",
              "    </tr>\n",
              "    <tr>\n",
              "      <th>11</th>\n",
              "      <td>2018</td>\n",
              "      <td>12</td>\n",
              "      <td>10.7</td>\n",
              "      <td>5.2</td>\n",
              "      <td>60.6</td>\n",
              "      <td>40.3</td>\n",
              "    </tr>\n",
              "  </tbody>\n",
              "</table>\n",
              "</div>\n",
              "      <button class=\"colab-df-convert\" onclick=\"convertToInteractive('df-9245bfc6-b074-407a-b21d-b954dcdc8498')\"\n",
              "              title=\"Convert this dataframe to an interactive table.\"\n",
              "              style=\"display:none;\">\n",
              "        \n",
              "  <svg xmlns=\"http://www.w3.org/2000/svg\" height=\"24px\"viewBox=\"0 0 24 24\"\n",
              "       width=\"24px\">\n",
              "    <path d=\"M0 0h24v24H0V0z\" fill=\"none\"/>\n",
              "    <path d=\"M18.56 5.44l.94 2.06.94-2.06 2.06-.94-2.06-.94-.94-2.06-.94 2.06-2.06.94zm-11 1L8.5 8.5l.94-2.06 2.06-.94-2.06-.94L8.5 2.5l-.94 2.06-2.06.94zm10 10l.94 2.06.94-2.06 2.06-.94-2.06-.94-.94-2.06-.94 2.06-2.06.94z\"/><path d=\"M17.41 7.96l-1.37-1.37c-.4-.4-.92-.59-1.43-.59-.52 0-1.04.2-1.43.59L10.3 9.45l-7.72 7.72c-.78.78-.78 2.05 0 2.83L4 21.41c.39.39.9.59 1.41.59.51 0 1.02-.2 1.41-.59l7.78-7.78 2.81-2.81c.8-.78.8-2.07 0-2.86zM5.41 20L4 18.59l7.72-7.72 1.47 1.35L5.41 20z\"/>\n",
              "  </svg>\n",
              "      </button>\n",
              "      \n",
              "  <style>\n",
              "    .colab-df-container {\n",
              "      display:flex;\n",
              "      flex-wrap:wrap;\n",
              "      gap: 12px;\n",
              "    }\n",
              "\n",
              "    .colab-df-convert {\n",
              "      background-color: #E8F0FE;\n",
              "      border: none;\n",
              "      border-radius: 50%;\n",
              "      cursor: pointer;\n",
              "      display: none;\n",
              "      fill: #1967D2;\n",
              "      height: 32px;\n",
              "      padding: 0 0 0 0;\n",
              "      width: 32px;\n",
              "    }\n",
              "\n",
              "    .colab-df-convert:hover {\n",
              "      background-color: #E2EBFA;\n",
              "      box-shadow: 0px 1px 2px rgba(60, 64, 67, 0.3), 0px 1px 3px 1px rgba(60, 64, 67, 0.15);\n",
              "      fill: #174EA6;\n",
              "    }\n",
              "\n",
              "    [theme=dark] .colab-df-convert {\n",
              "      background-color: #3B4455;\n",
              "      fill: #D2E3FC;\n",
              "    }\n",
              "\n",
              "    [theme=dark] .colab-df-convert:hover {\n",
              "      background-color: #434B5C;\n",
              "      box-shadow: 0px 1px 3px 1px rgba(0, 0, 0, 0.15);\n",
              "      filter: drop-shadow(0px 1px 2px rgba(0, 0, 0, 0.3));\n",
              "      fill: #FFFFFF;\n",
              "    }\n",
              "  </style>\n",
              "\n",
              "      <script>\n",
              "        const buttonEl =\n",
              "          document.querySelector('#df-9245bfc6-b074-407a-b21d-b954dcdc8498 button.colab-df-convert');\n",
              "        buttonEl.style.display =\n",
              "          google.colab.kernel.accessAllowed ? 'block' : 'none';\n",
              "\n",
              "        async function convertToInteractive(key) {\n",
              "          const element = document.querySelector('#df-9245bfc6-b074-407a-b21d-b954dcdc8498');\n",
              "          const dataTable =\n",
              "            await google.colab.kernel.invokeFunction('convertToInteractive',\n",
              "                                                     [key], {});\n",
              "          if (!dataTable) return;\n",
              "\n",
              "          const docLinkHtml = 'Like what you see? Visit the ' +\n",
              "            '<a target=\"_blank\" href=https://colab.research.google.com/notebooks/data_table.ipynb>data table notebook</a>'\n",
              "            + ' to learn more about interactive tables.';\n",
              "          element.innerHTML = '';\n",
              "          dataTable['output_type'] = 'display_data';\n",
              "          await google.colab.output.renderOutput(dataTable, element);\n",
              "          const docLink = document.createElement('div');\n",
              "          docLink.innerHTML = docLinkHtml;\n",
              "          element.appendChild(docLink);\n",
              "        }\n",
              "      </script>\n",
              "    </div>\n",
              "  </div>\n",
              "  "
            ]
          },
          "metadata": {},
          "execution_count": 19
        }
      ]
    },
    {
      "cell_type": "markdown",
      "source": [
        "The Year column is fairly redundant but is consistent with the larger data file. The other columns are self-explanatory. Months are numbered from 1 to 12, temperatures are in Celsius, rainfall is millimeters and sunshine is in hours.\n",
        "\n",
        "So, to get started with ggplot, we are going to draw a line graph of the maximum temperatures for each month. We will then add some layers to enhance the graph."
      ],
      "metadata": {
        "id": "UxE2aNBarxYu"
      }
    },
    {
      "cell_type": "markdown",
      "source": [],
      "metadata": {
        "id": "nSo7IRBKxmik"
      }
    }
  ]
}